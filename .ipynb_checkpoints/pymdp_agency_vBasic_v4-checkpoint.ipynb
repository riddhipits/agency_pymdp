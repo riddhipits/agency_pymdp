{
 "cells": [
  {
   "cell_type": "markdown",
   "metadata": {},
   "source": [
    "# active inference model of agency task (basic)\n",
    "\n",
    "### prerequisites"
   ]
  },
  {
   "cell_type": "code",
   "execution_count": 1,
   "metadata": {},
   "outputs": [],
   "source": [
    "# !pip install inferactively-pymdp\n",
    "import os\n",
    "import sys\n",
    "import pathlib\n",
    "import numpy as np \n",
    "import seaborn as sns\n",
    "import copy\n",
    "import matplotlib.pyplot as plt\n",
    "import pymdp\n",
    "\n",
    "from pymdp import utils \n",
    "from pymdp import maths\n",
    "from pymdp.maths import softmax\n",
    "from pymdp.agent import Agent"
   ]
  },
  {
   "cell_type": "markdown",
   "metadata": {},
   "source": [
    "### specifying the states and observations"
   ]
  },
  {
   "cell_type": "code",
   "execution_count": 2,
   "metadata": {},
   "outputs": [],
   "source": [
    "context_names = ['agt1_positive', 'agt1_negative', \n",
    "                 'agt2_positive', 'agt2_negative', 'zero']\n",
    "choice_agt1_names = ['null_agt1', 'Press_agt1', 'noPress_agt1']\n",
    "choice_agt2_names = ['null_agt2', 'Press_agt2', 'noPress_agt2']\n",
    "\n",
    "\"\"\" Define `num_states` and `num_factors` below \"\"\"\n",
    "num_states = [len(context_names), len(choice_agt1_names), len(choice_agt2_names)]\n",
    "num_factors = len(num_states)\n",
    "\n",
    "context_action_names = ['do_nothing']\n",
    "choice_action_agt1_names = ['null_agt1', 'Action_agt1', 'noAction_agt1']\n",
    "choice_action_agt2_names = ['do_nothing']\n",
    "\n",
    "\"\"\" Define `num_controls` below \"\"\"\n",
    "num_controls = [len(context_action_names), len(choice_action_agt1_names), len(choice_action_agt2_names)]\n",
    "\n",
    "outcome_obs_names = ['null','outcome_present', 'outcome_absent']\n",
    "choice_obs_agt1_names = ['null_agt1', 'Press_agt1', 'noPress_agt1']\n",
    "choice_obs_agt2_names = ['null_agt2', 'Press_agt2', 'noPress_agt2']\n",
    "\n",
    "\"\"\" Define `num_obs` and `num_modalities` below \"\"\"\n",
    "num_obs = [len(outcome_obs_names), len(choice_obs_agt1_names), len(choice_obs_agt2_names)]\n",
    "num_modalities = len(num_obs)"
   ]
  },
  {
   "cell_type": "code",
   "execution_count": 3,
   "metadata": {},
   "outputs": [],
   "source": [
    "def create_A(p_outcome=1.0):\n",
    "    \n",
    "    A = utils.initialize_empty_A(num_obs, num_states)\n",
    "    \n",
    "    '''likelihood matrix for outcome modality'''\n",
    "    \n",
    "    p_outcome = 1.0 # probability of outcome occurring, according to the agent's generative model\n",
    "    \n",
    "    A_outcome = np.zeros( (len(outcome_obs_names), len(context_names), len(choice_agt1_names), len(choice_agt2_names)) )\n",
    "    \n",
    "    # P(observation|null_agt1, null_agt2)\n",
    "    A_outcome[0,:,0,0] = 1.0\n",
    "    \n",
    "    # P(observation|null_agt1, Press_agt2)\n",
    "    A_outcome[0,:,0,1] = 1.0\n",
    "    \n",
    "    # P(observation|null_agt1, noPress_agt2)\n",
    "    A_outcome[0,:,0,2] = 1.0\n",
    "    \n",
    "    # P(observation|Press_agt1, null_agt2)\n",
    "    A_outcome[0,:,1,0] = 1.0\n",
    "    \n",
    "    # P(observation|noPress_agt1, null_agt2)\n",
    "    A_outcome[0,:,2,0] = 1.0\n",
    "    \n",
    "    # P(observation|Press_agt1, Press_agt2)\n",
    "    A_outcome[:,:,1,1] = [[0.0, 0.0, 0.0, 0.0, 0.0], \n",
    "                          [p_outcome, 1.0 - p_outcome, p_outcome, 1.0 - p_outcome, .5], \n",
    "                          [1.0 - p_outcome, p_outcome, 1.0 - p_outcome, p_outcome, .5]]\n",
    "    \n",
    "    # P(observation|Press_agt1, noPress_agt2)\n",
    "    A_outcome[:,:,1,2] = [[0.0, 0.0, 0.0, 0.0, 0.0], \n",
    "                          [p_outcome, 1.0 - p_outcome, 1.0 - p_outcome, p_outcome, .5],\n",
    "                          [1.0 - p_outcome, p_outcome, p_outcome, 1.0 - p_outcome, .5]]\n",
    "    \n",
    "    # P(observation|noPress_agt1, Press_agt2)\n",
    "    A_outcome[:,:,2,1] = [[0.0, 0.0, 0.0, 0.0, 0.0], \n",
    "                          [1.0 - p_outcome, p_outcome, p_outcome, 1.0 - p_outcome, .5],\n",
    "                          [p_outcome, 1.0 - p_outcome, 1.0 - p_outcome, p_outcome, .5]]\n",
    "    \n",
    "    # P(observation|noPress_agt1, noPress_agt2)\n",
    "    A_outcome[:,:,2,2] = [[0.0, 0.0, 0.0, 0.0, 0.0], \n",
    "                          [1.0 - p_outcome, p_outcome, 1.0 - p_outcome, p_outcome, .5],\n",
    "                          [p_outcome, 1.0 - p_outcome, p_outcome, 1.0 - p_outcome, .5]]\n",
    "    \n",
    "    \n",
    "    '''likelihood matrix for agent 1's proprioception modality'''        \n",
    "    A_choice_agt1 = np.zeros((len(choice_obs_agt1_names), len(context_names), len(choice_agt1_names), len(choice_agt2_names)))\n",
    "    \n",
    "    # P(observation|null_agt1, null_agt2)\n",
    "    A_choice_agt1[0,:,0,0] = 1.0\n",
    "    \n",
    "    # P(observation|null_agt1, Press_agt2)\n",
    "    A_choice_agt1[0,:,0,1] = 1.0\n",
    "    \n",
    "    # P(observation|null_agt1, noPress_agt2)\n",
    "    A_choice_agt1[0,:,0,2] = 1.0\n",
    "    \n",
    "    # P(observation|Press_agt1, null_agt2)\n",
    "    A_choice_agt1[1,:,1,0] = 1.0\n",
    "    \n",
    "    # P(observation|Press_agt1, Press_agt2)\n",
    "    A_choice_agt1[1,:,1,1] = 1.0\n",
    "    \n",
    "    # P(observation|Press_agt1, noPress_agt2)\n",
    "    A_choice_agt1[1,:,1,2] = 1.0\n",
    "    \n",
    "    # P(observation|noPress_agt1, null_agt2)\n",
    "    A_choice_agt1[2,:,2,0] = 1.0\n",
    "    \n",
    "    # P(observation|noPress_agt1, Press_agt2)\n",
    "    A_choice_agt1[2,:,2,1] = 1.0\n",
    "    \n",
    "    # P(observation|noPress_agt1, noPress_agt2)\n",
    "    A_choice_agt1[2,:,2,2] = 1.0\n",
    "    \n",
    "    \n",
    "    '''likelihood matrix for agent 2's proprioception modality'''        \n",
    "    A_choice_agt2 = np.zeros((len(choice_obs_agt2_names), len(context_names), len(choice_agt1_names), len(choice_agt2_names)))\n",
    "    \n",
    "    # P(observation|null_agt1, null_agt2)\n",
    "    A_choice_agt2[0,:,0,0] = 1.0\n",
    "    \n",
    "    # P(observation|null_agt1, Press_agt2)\n",
    "    A_choice_agt2[1,:,0,1] = 1.0\n",
    "    \n",
    "    # P(observation|null_agt1, noPress_agt2)\n",
    "    A_choice_agt2[2,:,0,2] = 1.0\n",
    "    \n",
    "    # P(observation|Press_agt1, null_agt2)\n",
    "    A_choice_agt2[0,:,1,0] = 1.0\n",
    "    \n",
    "    # P(observation|Press_agt1, Press_agt2)\n",
    "    A_choice_agt2[1,:,1,1] = 1.0\n",
    "    \n",
    "    # P(observation|Press_agt1, noPress_agt2)\n",
    "    A_choice_agt2[2,:,1,2] = 1.0\n",
    "    \n",
    "    # P(observation|noPress_agt1, null_agt2)\n",
    "    A_choice_agt2[0,:,2,0] = 1.0\n",
    "    \n",
    "    # P(observation|noPress_agt1, Press_agt2)\n",
    "    A_choice_agt2[1,:,2,1] = 1.0\n",
    "    \n",
    "    # P(observation|noPress_agt1, noPress_agt2)\n",
    "    A_choice_agt2[2,:,2,2] = 1.0\n",
    "        \n",
    "    A[0], A[1], A[2] = A_outcome, A_choice_agt1, A_choice_agt2\n",
    "    \n",
    "    return A\n",
    "\n",
    "# A = create_A(p_outcome = 1.0)\n",
    "# utils.plot_likelihood(A[0][:,:,0,0], title = \"Probability of outcome, given nothing\")\n",
    "# utils.plot_likelihood(A[1][:,:,1,2], title = \"Probability of outcome, given humanAction_compAction\")\n",
    "# utils.plot_likelihood(A[0][:,:,2], title = \"Probability of outcome, given humanAction_compNoAction\")\n",
    "# utils.plot_likelihood(A[0][:,:,3], title = \"Probability of outcome, given humanNoAction_compAction\")\n",
    "# utils.plot_likelihood(A[0][:,:,4], title = \"Probability of outcome, given humanNoAction_compNoAction\")\n",
    "# utils.plot_likelihood(A[1][:,0,:], title=\"Mapping between sensed states and true states for Actions\")"
   ]
  },
  {
   "cell_type": "code",
   "execution_count": 4,
   "metadata": {},
   "outputs": [
    {
     "name": "stdout",
     "output_type": "stream",
     "text": [
      "[[1. 0. 0. 0. 0.]\n",
      " [0. 1. 0. 0. 0.]\n",
      " [0. 0. 1. 0. 0.]\n",
      " [0. 0. 0. 1. 0.]\n",
      " [0. 0. 0. 0. 1.]]\n"
     ]
    }
   ],
   "source": [
    "def create_B(p_change = 0.0):\n",
    "    # `p_change`: probability of the context changing\n",
    "    B = utils.initialize_empty_B(num_states, num_states)\n",
    "    \n",
    "    B_context = np.zeros( (len(context_names), len(context_names), len(context_action_names)) )\n",
    "    B_context[:,:,0] = np.eye(len(context_names))\n",
    "    \n",
    "    B_choice_agt1 = np.zeros( (len(choice_agt1_names), len(choice_agt1_names), len(choice_action_agt1_names)) )\n",
    "    \n",
    "    for choice_i in range(len(choice_agt1_names)):\n",
    "        B_choice_agt1[choice_i, :, choice_i] = 1.0\n",
    "    \n",
    "    B_choice_agt2 = np.zeros( (len(choice_agt2_names), len(choice_agt2_names), len(choice_action_agt2_names)) )\n",
    "    \n",
    "    for choice_i in range(len(choice_agt2_names)):\n",
    "        B_choice_agt2[:,:,0] = np.array(1.0/float(num_states[2]))\n",
    "        \n",
    "    B[0], B[1], B[2] = B_context, B_choice_agt1, B_choice_agt2\n",
    "    \n",
    "    return B\n",
    "\n",
    "B = create_B(p_change=0.0)\n",
    "\n",
    "print(B[0][:,:,0])"
   ]
  },
  {
   "cell_type": "code",
   "execution_count": 5,
   "metadata": {},
   "outputs": [],
   "source": [
    "def create_C(reward = 1.0, pun = 0.0, actioncost = 0.0):\n",
    "    \n",
    "    # define reward and punishment values mapping onto outcome_present and outcome_absent preferences\n",
    "    \n",
    "    C = utils.obj_array_zeros(num_obs)\n",
    "    C[0] = np.array([0.0, reward, pun])\n",
    "    C[1] = np.array([0.0, actioncost, 0.0])\n",
    "    C[2] = np.array([0.0, 0.0, 0.0])\n",
    "    \n",
    "    return C\n",
    "\n",
    "# C = create_C(reward = 1.0, pun = 0.0)\n",
    "# utils.plot_beliefs(softmax(C[0]), title = \"Prior preferences for outcome_present and outcome_absent\")"
   ]
  },
  {
   "cell_type": "code",
   "execution_count": 6,
   "metadata": {},
   "outputs": [],
   "source": [
    "def create_D(p_context=1/float(num_states[0])):\n",
    "    \n",
    "    D = utils.obj_array(num_factors)\n",
    "    \n",
    "    D_context = np.ones(num_states[0])/float(num_states[0])\n",
    "    \n",
    "    D_choice_agt1 = np.zeros(len(choice_agt1_names)) \n",
    "    D_choice_agt1[choice_agt1_names.index(\"null_agt1\")] = 1.0\n",
    "    \n",
    "    D_choice_agt2 = np.zeros(len(choice_agt2_names)) \n",
    "    D_choice_agt2[choice_agt2_names.index(\"null_agt2\")] = 1.0\n",
    "\n",
    "    D[0], D[1], D[2] = D_context, D_choice_agt1, D_choice_agt2\n",
    "    \n",
    "    return D\n",
    "\n",
    "# D = create_D(p_context=1/float(num_states[0]))\n",
    "# utils.plot_beliefs(softmax(D[1]), title = \"Prior beliefs about probability of the contexts\")"
   ]
  },
  {
   "cell_type": "code",
   "execution_count": 7,
   "metadata": {},
   "outputs": [],
   "source": [
    "class AgencyTask(object):\n",
    "    \n",
    "    def __init__(self, context = None, p_action_agt2 = 0.5, p_outcome = 1.0):\n",
    "        \n",
    "        self.context_names = ['agt1_positive', 'agt1_negative',\n",
    "                              'agt2_positive', 'agt2_negative', 'zero']\n",
    "        if context == None:\n",
    "            self.context = self.context_names[utils.sample(np.ones(num_states[0])/float(num_states[0]))] # randomly sample which context is selected\n",
    "        else:\n",
    "            self.context = context\n",
    "            \n",
    "        self.p_outcome = p_outcome\n",
    "        self.p_action_agt2 = p_action_agt2\n",
    "        \n",
    "        self.outcome_obs_names = ['null', 'outcome_present', 'outcome_absent']\n",
    "        \n",
    "        \n",
    "    def step(self, action):\n",
    "        \n",
    "        self.action_agt2_names = ['null_agt2', 'Action_agt2', 'noAction_agt2']\n",
    "        self.action_agt2 = self.action_agt2_names[utils.sample(np.array([0.0, self.p_action_agt2, 1.0-self.p_action_agt2]))]\n",
    "        \n",
    "        if action == \"null_agt1\" and self.action_agt2 == \"null_agt2\":\n",
    "            observed_choice_agt1 = \"null_agt1\"\n",
    "            observed_choice_agt2 = \"null_agt2\"\n",
    "            observed_outcome = \"null\"\n",
    "                \n",
    "        elif action == \"Action_agt1\" and self.action_agt2 == \"Action_agt2\":\n",
    "            observed_choice_agt1 = \"Press_agt1\"\n",
    "            observed_choice_agt2 = \"Press_agt2\"\n",
    "            \n",
    "            if self.context == \"agt1_positive\":\n",
    "                observed_outcome = self.outcome_obs_names[utils.sample(np.array([0.0, self.p_outcome, 1.0-self.p_outcome]))]\n",
    "            elif self.context == \"agt1_negative\":\n",
    "                observed_outcome = self.outcome_obs_names[utils.sample(np.array([0.0, 1.0-self.p_outcome, self.p_outcome]))]\n",
    "            elif self.context == \"agt2_positive\":\n",
    "                observed_outcome = self.outcome_obs_names[utils.sample(np.array([0.0, self.p_outcome, 1.0-self.p_outcome]))]\n",
    "            elif self.context == \"agt2_negative\":\n",
    "                observed_outcome = self.outcome_obs_names[utils.sample(np.array([0.0, 1.0-self.p_outcome, self.p_outcome]))]\n",
    "            elif self.context == \"zero\":\n",
    "                observed_outcome = self.outcome_obs_names[utils.sample(np.array([0.0, 0.5, 0.5]))]\n",
    "                \n",
    "        elif action == \"Action_agt1\" and self.action_agt2 == \"noAction_agt2\":\n",
    "            observed_choice_agt1 = \"Press_agt1\"\n",
    "            observed_choice_agt2 = \"noPress_agt2\"\n",
    "            \n",
    "            if self.context == \"agt1_positive\":\n",
    "                observed_outcome = self.outcome_obs_names[utils.sample(np.array([0.0, self.p_outcome, 1.0-self.p_outcome]))]\n",
    "            elif self.context == \"agt1_negative\":\n",
    "                observed_outcome = self.outcome_obs_names[utils.sample(np.array([0.0, 1.0-self.p_outcome, self.p_outcome]))]\n",
    "            elif self.context == \"agt2_positive\":\n",
    "                observed_outcome = self.outcome_obs_names[utils.sample(np.array([0.0, 1.0-self.p_outcome, self.p_outcome]))]\n",
    "            elif self.context == \"agt2_negative\":\n",
    "                observed_outcome = self.outcome_obs_names[utils.sample(np.array([0.0, self.p_outcome, 1.0-self.p_outcome]))]\n",
    "            elif self.context == \"zero\":\n",
    "                observed_outcome = self.outcome_obs_names[utils.sample(np.array([0.0, 0.5, 0.5]))]\n",
    "                \n",
    "        elif action == \"noAction_agt1\" and self.action_agt2 == \"Action_agt2\":\n",
    "            observed_choice_agt1 = \"noPress_agt1\"\n",
    "            observed_choice_agt2 = \"Press_agt2\"\n",
    "            \n",
    "            if self.context == \"agt1_positive\":\n",
    "                observed_outcome = self.outcome_obs_names[utils.sample(np.array([0.0, 1.0-self.p_outcome, self.p_outcome]))]\n",
    "            elif self.context == \"agt1_negative\":\n",
    "                observed_outcome = self.outcome_obs_names[utils.sample(np.array([0.0, self.p_outcome, 1.0-self.p_outcome]))]\n",
    "            elif self.context == \"agt2_positive\":\n",
    "                observed_outcome = self.outcome_obs_names[utils.sample(np.array([0.0, self.p_outcome, 1.0-self.p_outcome]))]\n",
    "            elif self.context == \"agt2_negative\":\n",
    "                observed_outcome = self.outcome_obs_names[utils.sample(np.array([0.0, 1.0-self.p_outcome, self.p_outcome]))]\n",
    "            elif self.context == \"zero\":\n",
    "                observed_outcome = self.outcome_obs_names[utils.sample(np.array([0.0, 0.5, 0.5]))]\n",
    "                \n",
    "        elif action == \"noAction_agt1\" and self.action_agt2 == \"noAction_agt2\":\n",
    "            observed_choice_agt1 = \"noPress_agt1\"\n",
    "            observed_choice_agt2 = \"noPress_agt2\"\n",
    "            \n",
    "            if self.context == \"agt1_positive\":\n",
    "                observed_outcome = self.outcome_obs_names[utils.sample(np.array([0.0, 1.0-self.p_outcome, self.p_outcome]))]\n",
    "            elif self.context == \"agt1_negative\":\n",
    "                observed_outcome = self.outcome_obs_names[utils.sample(np.array([0.0, self.p_outcome, 1.0-self.p_outcome]))]\n",
    "            elif self.context == \"agt2_positive\":\n",
    "                observed_outcome = self.outcome_obs_names[utils.sample(np.array([0.0, 1.0-self.p_outcome, self.p_outcome]))]\n",
    "            elif self.context == \"agt2_negative\":\n",
    "                observed_outcome = self.outcome_obs_names[utils.sample(np.array([0.0, self.p_outcome, 1.0-self.p_outcome]))]\n",
    "            elif self.context == \"zero\":\n",
    "                observed_outcome = self.outcome_obs_names[utils.sample(np.array([0.0, 0.5, 0.5]))]\n",
    "\n",
    "        obs = [observed_outcome, observed_choice_agt1, observed_choice_agt2]\n",
    "\n",
    "        return obs"
   ]
  },
  {
   "cell_type": "code",
   "execution_count": 8,
   "metadata": {},
   "outputs": [],
   "source": [
    "def run_active_inference_loop(my_agent, my_env, T = 5, verbose = False):\n",
    "    \n",
    "    \"\"\" Initialize the first observation \"\"\"\n",
    "    obs_label = [\"null\", \"null_agt1\", \"null_agt2\"]  \n",
    "    obs = [outcome_obs_names.index(obs_label[0]), choice_obs_agt1_names.index(obs_label[1]), choice_obs_agt2_names.index(obs_label[2])]\n",
    "    \n",
    "    first_choice = choice_obs_agt1_names.index(obs_label[1])\n",
    "    choice_hist = np.zeros((3,T+1))\n",
    "    choice_hist[first_choice,0] = 1.0\n",
    "    \n",
    "    belief_hist = np.zeros((5, T))\n",
    "    belief_action_agt1_hist = np.zeros((3, T))\n",
    "    belief_action_agt2_hist = np.zeros((3, T))\n",
    "    context_hist = np.zeros(T)\n",
    "    \n",
    "    for t in range(T):\n",
    "        context_hist[t] = env.context_names.index(env.context)\n",
    "        qs = my_agent.infer_states(obs)\n",
    "        \n",
    "        belief_hist[:,t] = qs[0]\n",
    "        belief_action_agt1_hist[:,t] = qs[1]\n",
    "        belief_action_agt2_hist[:,t] = qs[2]\n",
    "        \n",
    "        if verbose:\n",
    "             utils.plot_beliefs(qs[0], title = f\"Beliefs about the context at time {t}\")\n",
    "#             utils.plot_beliefs(qs[1], title = f\"Beliefs about the action_agt1 at time {t}\")\n",
    "#             utils.plot_beliefs(qs[2], title = f\"Beliefs about the action_agt2 at time {t}\")\n",
    "            \n",
    "        q_pi, efe = my_agent.infer_policies()\n",
    "        chosen_action_id = my_agent.sample_action()\n",
    "        \n",
    "        movement_id = int(chosen_action_id[1])\n",
    "        choice_hist[movement_id,t+1]= 1.0\n",
    "        \n",
    "        choice_action = choice_action_agt1_names[movement_id]\n",
    "        \n",
    "        obs_label = my_env.step(choice_action)\n",
    "        \n",
    "        obs = [outcome_obs_names.index(obs_label[0]), choice_obs_agt1_names.index(obs_label[1]), choice_obs_agt2_names.index(obs_label[2])]\n",
    "        \n",
    "        if verbose:\n",
    "            print(f'Action at time {t}: {choice_action}')\n",
    "            print(f'Outcome at time {t}: {obs_label[0]}')\n",
    "            print(f'Obs_action_self at time {t}: {obs_label[1]}')\n",
    "            print(f'Obs_action_other at time {t}: {obs_label[2]}')\n",
    "\n",
    "    return choice_hist, belief_hist, context_hist"
   ]
  },
  {
   "cell_type": "code",
   "execution_count": 9,
   "metadata": {},
   "outputs": [],
   "source": [
    "def plot_choices_beliefs(choice_hist, belief_hist, context_hist, pad_val=5.0):\n",
    "    T = choice_hist.shape[1]\n",
    "    fig, axes = plt.subplots(nrows = 2, ncols = 1, figsize = (15,13))\n",
    "    \n",
    "    axes[0].imshow(choice_hist[:,:-1], cmap = 'gray') \n",
    "    axes[0].set_xlabel('Timesteps')\n",
    "    axes[0].set_yticks(ticks = range(3))\n",
    "    axes[0].set_yticklabels(labels = choice_action_agt1_names)\n",
    "    axes[0].set_title('Choices over time')\n",
    "    \n",
    "    axes[1].imshow(belief_hist, cmap = 'gray')\n",
    "    axes[1].set_xlabel('Timesteps')\n",
    "    axes[1].set_yticks(ticks = range(5))\n",
    "    axes[1].set_yticklabels(labels = context_names)\n",
    "    axes[1].set_title('Beliefs over time')\n",
    "    axes[1].scatter(np.arange(T-1), context_hist, c = 'r', s = 50)\n",
    "    \n",
    "    fig.tight_layout(pad=pad_val)\n",
    "    plt.show()"
   ]
  },
  {
   "cell_type": "code",
   "execution_count": 10,
   "metadata": {},
   "outputs": [
    {
     "data": {
      "image/png": "[encoded data removed]",
      "text/plain": [
       "<Figure size 432x288 with 1 Axes>"
      ]
     },
     "metadata": {
      "needs_background": "light"
     },
     "output_type": "display_data"
    },
    {
     "name": "stdout",
     "output_type": "stream",
     "text": [
      "Action at time 0: noAction_agt1\n",
      "Outcome at time 0: outcome_absent\n",
      "Obs_action_self at time 0: noPress_agt1\n",
      "Obs_action_other at time 0: noPress_agt2\n"
     ]
    },
    {
     "data": {
      "image/png": "[encoded data removed]",
      "text/plain": [
       "<Figure size 432x288 with 1 Axes>"
      ]
     },
     "metadata": {
      "needs_background": "light"
     },
     "output_type": "display_data"
    },
    {
     "name": "stdout",
     "output_type": "stream",
     "text": [
      "Action at time 1: noAction_agt1\n",
      "Outcome at time 1: outcome_absent\n",
      "Obs_action_self at time 1: noPress_agt1\n",
      "Obs_action_other at time 1: Press_agt2\n"
     ]
    },
    {
     "data": {
      "image/png": "[encoded data removed]",
      "text/plain": [
       "<Figure size 432x288 with 1 Axes>"
      ]
     },
     "metadata": {
      "needs_background": "light"
     },
     "output_type": "display_data"
    },
    {
     "name": "stdout",
     "output_type": "stream",
     "text": [
      "Action at time 2: Action_agt1\n",
      "Outcome at time 2: outcome_present\n",
      "Obs_action_self at time 2: Press_agt1\n",
      "Obs_action_other at time 2: noPress_agt2\n"
     ]
    },
    {
     "data": {
      "image/png": "[encoded data removed]",
      "text/plain": [
       "<Figure size 432x288 with 1 Axes>"
      ]
     },
     "metadata": {
      "needs_background": "light"
     },
     "output_type": "display_data"
    },
    {
     "name": "stdout",
     "output_type": "stream",
     "text": [
      "Action at time 3: Action_agt1\n",
      "Outcome at time 3: outcome_present\n",
      "Obs_action_self at time 3: Press_agt1\n",
      "Obs_action_other at time 3: noPress_agt2\n"
     ]
    },
    {
     "data": {
      "image/png": "[encoded data removed]",
      "text/plain": [
       "<Figure size 432x288 with 1 Axes>"
      ]
     },
     "metadata": {
      "needs_background": "light"
     },
     "output_type": "display_data"
    },
    {
     "name": "stdout",
     "output_type": "stream",
     "text": [
      "Action at time 4: Action_agt1\n",
      "Outcome at time 4: outcome_present\n",
      "Obs_action_self at time 4: Press_agt1\n",
      "Obs_action_other at time 4: Press_agt2\n"
     ]
    },
    {
     "data": {
      "image/png": "[encoded data removed]",
      "text/plain": [
       "<Figure size 432x288 with 1 Axes>"
      ]
     },
     "metadata": {
      "needs_background": "light"
     },
     "output_type": "display_data"
    },
    {
     "name": "stdout",
     "output_type": "stream",
     "text": [
      "Action at time 5: Action_agt1\n",
      "Outcome at time 5: outcome_present\n",
      "Obs_action_self at time 5: Press_agt1\n",
      "Obs_action_other at time 5: Press_agt2\n"
     ]
    },
    {
     "data": {
      "image/png": "[encoded data removed]",
      "text/plain": [
       "<Figure size 432x288 with 1 Axes>"
      ]
     },
     "metadata": {
      "needs_background": "light"
     },
     "output_type": "display_data"
    },
    {
     "name": "stdout",
     "output_type": "stream",
     "text": [
      "Action at time 6: Action_agt1\n",
      "Outcome at time 6: outcome_present\n",
      "Obs_action_self at time 6: Press_agt1\n",
      "Obs_action_other at time 6: Press_agt2\n"
     ]
    },
    {
     "data": {
      "image/png": "[encoded data removed]",
      "text/plain": [
       "<Figure size 432x288 with 1 Axes>"
      ]
     },
     "metadata": {
      "needs_background": "light"
     },
     "output_type": "display_data"
    },
    {
     "name": "stdout",
     "output_type": "stream",
     "text": [
      "Action at time 7: Action_agt1\n",
      "Outcome at time 7: outcome_present\n",
      "Obs_action_self at time 7: Press_agt1\n",
      "Obs_action_other at time 7: noPress_agt2\n"
     ]
    },
    {
     "data": {
      "image/png": "[encoded data removed]",
      "text/plain": [
       "<Figure size 432x288 with 1 Axes>"
      ]
     },
     "metadata": {
      "needs_background": "light"
     },
     "output_type": "display_data"
    },
    {
     "name": "stdout",
     "output_type": "stream",
     "text": [
      "Action at time 8: Action_agt1\n",
      "Outcome at time 8: outcome_present\n",
      "Obs_action_self at time 8: Press_agt1\n",
      "Obs_action_other at time 8: noPress_agt2\n"
     ]
    },
    {
     "data": {
      "image/png": "[encoded data removed]",
      "text/plain": [
       "<Figure size 432x288 with 1 Axes>"
      ]
     },
     "metadata": {
      "needs_background": "light"
     },
     "output_type": "display_data"
    },
    {
     "name": "stdout",
     "output_type": "stream",
     "text": [
      "Action at time 9: Action_agt1\n",
      "Outcome at time 9: outcome_present\n",
      "Obs_action_self at time 9: Press_agt1\n",
      "Obs_action_other at time 9: noPress_agt2\n"
     ]
    },
    {
     "data": {
      "image/png": "[encoded data removed]",
      "text/plain": [
       "<Figure size 432x288 with 1 Axes>"
      ]
     },
     "metadata": {
      "needs_background": "light"
     },
     "output_type": "display_data"
    },
    {
     "name": "stdout",
     "output_type": "stream",
     "text": [
      "Action at time 10: Action_agt1\n",
      "Outcome at time 10: outcome_present\n",
      "Obs_action_self at time 10: Press_agt1\n",
      "Obs_action_other at time 10: noPress_agt2\n"
     ]
    },
    {
     "data": {
      "image/png": "[encoded data removed]",
      "text/plain": [
       "<Figure size 432x288 with 1 Axes>"
      ]
     },
     "metadata": {
      "needs_background": "light"
     },
     "output_type": "display_data"
    },
    {
     "name": "stdout",
     "output_type": "stream",
     "text": [
      "Action at time 11: Action_agt1\n",
      "Outcome at time 11: outcome_present\n",
      "Obs_action_self at time 11: Press_agt1\n",
      "Obs_action_other at time 11: noPress_agt2\n"
     ]
    },
    {
     "data": {
      "image/png": "[encoded data removed]",
      "text/plain": [
       "<Figure size 432x288 with 1 Axes>"
      ]
     },
     "metadata": {
      "needs_background": "light"
     },
     "output_type": "display_data"
    },
    {
     "name": "stdout",
     "output_type": "stream",
     "text": [
      "Action at time 12: Action_agt1\n",
      "Outcome at time 12: outcome_present\n",
      "Obs_action_self at time 12: Press_agt1\n",
      "Obs_action_other at time 12: noPress_agt2\n"
     ]
    },
    {
     "data": {
      "image/png": "[encoded data removed]",
      "text/plain": [
       "<Figure size 432x288 with 1 Axes>"
      ]
     },
     "metadata": {
      "needs_background": "light"
     },
     "output_type": "display_data"
    },
    {
     "name": "stdout",
     "output_type": "stream",
     "text": [
      "Action at time 13: Action_agt1\n",
      "Outcome at time 13: outcome_present\n",
      "Obs_action_self at time 13: Press_agt1\n",
      "Obs_action_other at time 13: noPress_agt2\n"
     ]
    },
    {
     "data": {
      "image/png": "[encoded data removed]",
      "text/plain": [
       "<Figure size 432x288 with 1 Axes>"
      ]
     },
     "metadata": {
      "needs_background": "light"
     },
     "output_type": "display_data"
    },
    {
     "name": "stdout",
     "output_type": "stream",
     "text": [
      "Action at time 14: Action_agt1\n",
      "Outcome at time 14: outcome_present\n",
      "Obs_action_self at time 14: Press_agt1\n",
      "Obs_action_other at time 14: noPress_agt2\n"
     ]
    }
   ],
   "source": [
    "p_outcome_env = 1.0\n",
    "p_action_agt2_env = 0.5\n",
    "\n",
    "env = AgencyTask(p_action_agt2 = p_action_agt2_env, p_outcome = p_outcome_env)\n",
    "\n",
    "T = 15\n",
    "\n",
    "A = create_A(p_outcome = 1.0)\n",
    "B = create_B(p_change = 0.0)\n",
    "C = create_C(reward = 1.0, pun = 0.0, actioncost = -0.5)\n",
    "D = create_D(p_context=1/float(num_states[0]))\n",
    "my_agent = Agent(A=A, B=B, C=C, D=D)\n",
    "\n",
    "choice_hist, belief_hist, context_hist = run_active_inference_loop(my_agent, env, T = T, verbose = False)"
   ]
  },
  {
   "cell_type": "code",
   "execution_count": 11,
   "metadata": {},
   "outputs": [
    {
     "data": {
      "image/png": "[encoded data removed]",
      "text/plain": [
       "<Figure size 1080x936 with 2 Axes>"
      ]
     },
     "metadata": {
      "needs_background": "light"
     },
     "output_type": "display_data"
    }
   ],
   "source": [
    "plot_choices_beliefs(choice_hist, belief_hist, context_hist)"
   ]
  },
  {
   "cell_type": "code",
   "execution_count": null,
   "metadata": {},
   "outputs": [],
   "source": []
  }
 ],
 "metadata": {
  "kernelspec": {
   "display_name": "Python 3",
   "language": "python",
   "name": "python3"
  },
  "language_info": {
   "codemirror_mode": {
    "name": "ipython",
    "version": 3
   },
   "file_extension": ".py",
   "mimetype": "text/x-python",
   "name": "python",
   "nbconvert_exporter": "python",
   "pygments_lexer": "ipython3",
   "version": "3.8.3"
  }
 },
 "nbformat": 4,
 "nbformat_minor": 4
}
