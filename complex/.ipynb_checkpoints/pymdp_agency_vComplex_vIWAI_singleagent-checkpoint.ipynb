{
 "cells": [
  {
   "cell_type": "markdown",
   "metadata": {},
   "source": [
    "# agential learning using active inference\n",
    "\n",
    "#### prerequisites"
   ]
  },
  {
   "cell_type": "code",
   "execution_count": 1,
   "metadata": {},
   "outputs": [],
   "source": [
    "# !pip install inferactively-pymdp # the sparse-likelilihoods_111 branch was used here\n",
    "import os\n",
    "import sys\n",
    "import pathlib\n",
    "import numpy as np\n",
    "import matplotlib.pyplot as plt\n",
    "\n",
    "import pymdp\n",
    "from pymdp import utils \n",
    "from pymdp import maths\n",
    "from pymdp.agent import Agent"
   ]
  },
  {
   "cell_type": "code",
   "execution_count": 2,
   "metadata": {},
   "outputs": [],
   "source": [
    "def softmax(x):\n",
    "    return(np.exp(x)/np.exp(x).sum())"
   ]
  },
  {
   "cell_type": "code",
   "execution_count": 3,
   "metadata": {},
   "outputs": [],
   "source": [
    "def plot_all_choices_beliefs(choice_self_hist, belief_self_context_hist, expcondition_hist, outcome_hist, pad_val=1.0):\n",
    "    \n",
    "    print(f'Experimental Condition (or Context): {env.expcondition}')\n",
    "    \n",
    "    T = choice_self_hist.shape[1]\n",
    "    fig, axes = plt.subplots(nrows = 3, ncols = 1, figsize = (15,7))\n",
    "    \n",
    "    axes[0].imshow(belief_self_context_hist, cmap = 'gray')\n",
    "    axes[0].set_xlabel('Timesteps')\n",
    "    axes[0].set_yticks(ticks = range(num_states[0]))\n",
    "    axes[0].set_yticklabels(labels = self_context_names)\n",
    "    axes[0].set_title('Beliefs about control the self has over time')\n",
    "\n",
    "    axes[1].imshow(choice_self_hist[:,:-1], cmap = 'gray') \n",
    "    axes[1].set_xlabel('Timesteps')\n",
    "    axes[1].set_yticks(ticks = range(num_states[1]))\n",
    "    axes[1].set_yticklabels(labels = self_action_names)\n",
    "    axes[1].set_title('Actions produced by the self over time')\n",
    "\n",
    "    axes[2].imshow(outcome_hist[:,:-1], cmap = 'gray') \n",
    "    axes[2].set_xlabel('Timesteps')\n",
    "    axes[2].set_yticks(ticks = range(num_obs[0]))\n",
    "    axes[2].set_yticklabels(labels = obs_outcome_names)\n",
    "    axes[2].set_title('Outcomes observed over time')\n",
    "\n",
    "    fig.tight_layout(pad=pad_val)\n",
    "    plt.show()"
   ]
  },
  {
   "cell_type": "markdown",
   "metadata": {},
   "source": [
    "### THE GENERATIVE MODEL\n",
    "\n",
    "#### specifying the states and observations"
   ]
  },
  {
   "cell_type": "code",
   "execution_count": 4,
   "metadata": {},
   "outputs": [],
   "source": [
    "\"\"\" Defining state factors \"\"\"\n",
    "self_context_names = ['self_positivecontrol', 'self_negativecontrol', 'self_zerocontrol']\n",
    "self_action_names = ['self_buttonpress', 'self_buttonnotpress']\n",
    "\n",
    "\"\"\" Defining number of state factors and states \"\"\"\n",
    "num_states = [len(self_context_names), len(self_action_names)]\n",
    "num_factors = len(num_states)\n",
    "\n",
    "\"\"\" Defining control state factors \"\"\"\n",
    "choice_self_context_names = ['no_changes']\n",
    "choice_self_action_names = ['self_pressbutton', 'self_notpressbutton']\n",
    "\n",
    "\"\"\" Defining number of control states \"\"\"\n",
    "num_controls = [len(choice_self_context_names), len(choice_self_action_names)]\n",
    "\n",
    "\"\"\" Defining observational modalities \"\"\"\n",
    "obs_outcome_names = ['outcome_present', 'outcome_absent']\n",
    "obs_choice_self_names = ['self_buttonpress', 'self_buttonnotpress']\n",
    "\n",
    "\"\"\" Defining number of observational modalities and observations \"\"\"\n",
    "num_obs = [len(obs_outcome_names), len(obs_choice_self_names)]\n",
    "num_modalities = len(num_obs)"
   ]
  },
  {
   "cell_type": "markdown",
   "metadata": {},
   "source": [
    "#### likelihood (A) tensors"
   ]
  },
  {
   "cell_type": "code",
   "execution_count": 5,
   "metadata": {},
   "outputs": [],
   "source": [
    "def create_A(p_outcome):\n",
    "    \n",
    "    A_gp = utils.obj_array(num_modalities)\n",
    "    \n",
    "    ''' A matrix for outcome '''\n",
    "    \n",
    "    A_outcome = np.zeros( (len(obs_outcome_names), len(self_context_names), len(self_action_names)) )\n",
    "    \n",
    "    # SELF_POS\n",
    "    \n",
    "    # p(outcome | self_pos, self_press)\n",
    "    #                    present       absent\n",
    "    A_outcome[:,0,0] = [p_outcome, 1.0-p_outcome]\n",
    "    \n",
    "    # p(outcome | self_pos, self_notpress)\n",
    "    #                    present       absent\n",
    "    A_outcome[:,0,1] = [1.0-p_outcome, p_outcome]\n",
    "    \n",
    "    \n",
    "    # SELF_NEG\n",
    "    \n",
    "    # p(outcome | self_neg, self_press)\n",
    "    #                    present       absent\n",
    "    A_outcome[:,1,0] = [1.0-p_outcome, p_outcome]\n",
    "    \n",
    "    # p(outcome | self_neg, self_notpress)\n",
    "    #                    present       absent\n",
    "    A_outcome[:,1,1] = [p_outcome, 1.0-p_outcome]\n",
    "    \n",
    "    \n",
    "    # SELF_ZERO\n",
    "    \n",
    "    # p(outcome | self_zero, self_press)\n",
    "    #                   pre  abs\n",
    "    A_outcome[:,2,0] = [0.5, 0.5]\n",
    "    \n",
    "    # p(outcome | self_zero, self_notpress)\n",
    "    #                   pre  abs\n",
    "    A_outcome[:,2,1] = [0.5, 0.5]\n",
    "\n",
    "    ''' A matrix for proprioception '''\n",
    "    A_choice_self = np.zeros((len(obs_choice_self_names), len(self_action_names)))\n",
    "    \n",
    "    A_choice_self = np.eye(len(self_action_names))\n",
    "    \n",
    "    \n",
    "    ''' stacking up the A matrices '''\n",
    "    A_gp[0], A_gp[1] = A_outcome, A_choice_self\n",
    "    A_factor_list = [[0,1], [1]]\n",
    "    \n",
    "    A_gp = utils.norm_dist_obj_arr(A_gp)\n",
    "    \n",
    "    pA = utils.dirichlet_like(A_gp, scale = 1.0)\n",
    "\n",
    "    pA[0] = pA[0] / np.sum(pA[0])\n",
    "\n",
    "    A = utils.norm_dist_obj_arr(pA) \n",
    "    \n",
    "    return A, A_factor_list, pA\n",
    "\n",
    "controllable_indices = [1]\n",
    "learnable_modalities = [0]"
   ]
  },
  {
   "cell_type": "markdown",
   "metadata": {},
   "source": [
    "#### state transition (B) tensors"
   ]
  },
  {
   "cell_type": "code",
   "execution_count": 6,
   "metadata": {},
   "outputs": [],
   "source": [
    "def create_B():\n",
    "    \n",
    "    B = utils.initialize_empty_B(num_states, num_states)\n",
    "    \n",
    "    ''' B matrix for context regarding the self '''\n",
    "    B_self_context = np.zeros( (len(self_context_names), len(self_context_names), len(choice_self_context_names)) )\n",
    "    B_self_context[:,:,0] = np.eye(len(self_context_names))\n",
    "    \n",
    "    ''' B matrix for actions the self can make '''\n",
    "    B_self_choice = np.zeros( (len(self_action_names), len(self_action_names), len(choice_self_action_names)) )\n",
    "    \n",
    "    for choice_id in range(len(self_action_names)):\n",
    "        B_self_choice[choice_id, :, choice_id] = 1.0\n",
    "    \n",
    "    ''' stacking up the B matrices '''\n",
    "    B[0], B[1] = B_self_context, B_self_choice\n",
    "    \n",
    "    B = utils.norm_dist_obj_arr(B)\n",
    "    \n",
    "    return B"
   ]
  },
  {
   "cell_type": "markdown",
   "metadata": {},
   "source": [
    "#### preferences (C) vectors"
   ]
  },
  {
   "cell_type": "code",
   "execution_count": 7,
   "metadata": {},
   "outputs": [],
   "source": [
    "def create_C(outcomepref, actionpref, noactionpref):\n",
    "        \n",
    "    C = utils.obj_array_zeros(num_obs)\n",
    "    C[0] = np.array([outcomepref, 0.0])\n",
    "    C[1] = np.array([actionpref, noactionpref])\n",
    "    \n",
    "    return C"
   ]
  },
  {
   "cell_type": "markdown",
   "metadata": {},
   "source": [
    "#### priors (D) vectors"
   ]
  },
  {
   "cell_type": "code",
   "execution_count": 8,
   "metadata": {},
   "outputs": [],
   "source": [
    "def create_D():\n",
    "    \n",
    "    D = utils.obj_array(num_factors)\n",
    "    \n",
    "    D_self_context = np.ones(num_states[0])/float(num_states[0])\n",
    "    \n",
    "    D_self_choice = np.zeros(len(self_action_names)) \n",
    "    D_self_choice = np.ones(num_states[1])/float(num_states[1])\n",
    "\n",
    "    D[0], D[1] = D_self_context, D_self_choice\n",
    "    \n",
    "    return D"
   ]
  },
  {
   "cell_type": "markdown",
   "metadata": {},
   "source": [
    "### THE GENERATIVE PROCESS"
   ]
  },
  {
   "cell_type": "code",
   "execution_count": 9,
   "metadata": {},
   "outputs": [],
   "source": [
    "class AgencyTask(object):\n",
    "    \n",
    "    def __init__(self, expcondition = None , p_other_action = 0.5, p_outcome = 1.0):\n",
    "        \n",
    "        # defining the experimental conditions for the generative process\n",
    "#         self.expcondition_names = ['s_pos_o_zer', 's_neg_o_zer',\n",
    "#                                    's_zer_o_pos', 's_zer_o_neg', \n",
    "#                                    's_zer_o_zer']\n",
    "        \n",
    "        self.expcondition_names = ['s_pos', 's_neg', 's_zer']\n",
    "        \n",
    "        self.num_expcondition = len(self.expcondition_names)\n",
    "        \n",
    "        if expcondition == None:\n",
    "            self.expcondition = self.expcondition_names[utils.sample(np.ones(self.num_expcondition)/self.num_expcondition)] # randomly sample which context is selected\n",
    "        else:\n",
    "            self.expcondition = expcondition\n",
    "            \n",
    "        self.p_outcome = p_outcome\n",
    "        \n",
    "        self.obs_outcome_names = ['outcome_present', 'outcome_absent']\n",
    "                \n",
    "    def step(self, action):\n",
    "\n",
    "        # defining what happens in the generative process: what observations are presented to the agent given certain states (actions and context)\n",
    "        if action == \"self_pressbutton\":\n",
    "            observed_choice_self = \"self_buttonpress\"\n",
    "            \n",
    "            if self.expcondition == 's_pos':\n",
    "                observed_outcome = self.obs_outcome_names[utils.sample(np.array([self.p_outcome, 1.0-self.p_outcome]))]\n",
    "            elif self.expcondition == 's_neg':\n",
    "                observed_outcome = self.obs_outcome_names[utils.sample(np.array([1.0-self.p_outcome, self.p_outcome]))]\n",
    "            elif self.expcondition == 's_zer':\n",
    "                observed_outcome = self.obs_outcome_names[utils.sample(np.array([0.5, 0.5]))]\n",
    "            \n",
    "        elif action == \"self_notpressbutton\":\n",
    "            observed_choice_self = \"self_buttonnotpress\"\n",
    "            \n",
    "            if self.expcondition == 's_pos':\n",
    "                observed_outcome = self.obs_outcome_names[utils.sample(np.array([1.0-self.p_outcome, self.p_outcome]))]\n",
    "            elif self.expcondition == 's_neg':\n",
    "                observed_outcome = self.obs_outcome_names[utils.sample(np.array([self.p_outcome, 1.0-self.p_outcome]))]\n",
    "            elif self.expcondition == 's_zer':\n",
    "                observed_outcome = self.obs_outcome_names[utils.sample(np.array([0.5, 0.5]))]\n",
    "            \n",
    "        obs = [observed_outcome, observed_choice_self]\n",
    "\n",
    "        return obs"
   ]
  },
  {
   "cell_type": "markdown",
   "metadata": {},
   "source": [
    "### RUNNING ACTIVE INFERENCE "
   ]
  },
  {
   "cell_type": "code",
   "execution_count": 10,
   "metadata": {},
   "outputs": [],
   "source": [
    "def run_active_inference_loop(my_agent, my_env, T, verbose):\n",
    "\n",
    "    choice_self_hist = np.zeros((num_controls[1],T))\n",
    "    \n",
    "    belief_self_context_hist = np.zeros((num_states[0], T))\n",
    "    belief_self_action_hist = np.zeros((num_states[1], T))\n",
    "    \n",
    "    expcondition_hist = np.zeros(T)\n",
    "    outcome_hist = np.zeros((num_obs[0],T))\n",
    "    \n",
    "    pA_hist = []\n",
    "    \n",
    "    for t in range(T):\n",
    "        \n",
    "        q_pi, efe = my_agent.infer_policies_factorized()\n",
    "        \n",
    "        chosen_action_id = my_agent.sample_action()\n",
    "        action_id = int(chosen_action_id[1])\n",
    "        choice_self_hist[action_id,t]= 1.0\n",
    "        choice_action = choice_self_action_names[action_id]\n",
    "        \n",
    "        obs_label = my_env.step(choice_action)\n",
    "        obs = [obs_outcome_names.index(obs_label[0]), obs_choice_self_names.index(obs_label[1])]\n",
    "        \n",
    "        expcondition_hist[t] = env.expcondition_names.index(env.expcondition)\n",
    "        \n",
    "        qs = my_agent.infer_states(obs)\n",
    "        belief_self_context_hist[:,t] = qs[0]\n",
    "        belief_self_action_hist[:,t] = qs[1]\n",
    "        \n",
    "        outcome_hist[obs[0],t] = 1.0\n",
    "        \n",
    "        pA_t = my_agent.update_A(obs)\n",
    "        pA_hist.append(pA_t)\n",
    "            \n",
    "    return choice_self_hist, belief_self_context_hist, expcondition_hist, outcome_hist, pA_hist"
   ]
  },
  {
   "cell_type": "code",
   "execution_count": 11,
   "metadata": {},
   "outputs": [],
   "source": [
    "p_outcome_env = 1.0\n",
    "\n",
    "env = AgencyTask(p_outcome = p_outcome_env)\n",
    "\n",
    "T = 50\n",
    "\n",
    "A,A_factor_list,pA = create_A(p_outcome = 0.6)\n",
    "B = create_B()\n",
    "C = create_C(outcomepref = 5.0, actionpref = 0.0, noactionpref = 0.05)\n",
    "D = create_D()\n",
    "my_agent = Agent(A=A, B=B, C=C, D=D, A_factor_list=A_factor_list,\n",
    "                 pA=pA, control_fac_idx=controllable_indices,\n",
    "                 modalities_to_learn=learnable_modalities,\n",
    "                 lr_pA=0.25, use_param_info_gain=True)\n",
    "\n",
    "\n",
    "choice_self_hist, belief_self_context_hist, expcondition_hist, outcome_hist, pA_hist = run_active_inference_loop(my_agent, env, T = T, verbose = False)"
   ]
  },
  {
   "cell_type": "markdown",
   "metadata": {},
   "source": [
    "### PLOTTING "
   ]
  },
  {
   "cell_type": "code",
   "execution_count": 12,
   "metadata": {},
   "outputs": [],
   "source": [
    "# plot_some_choices_beliefs(choice_hist, belief_hist, context_hist)"
   ]
  },
  {
   "cell_type": "code",
   "execution_count": 13,
   "metadata": {},
   "outputs": [
    {
     "name": "stdout",
     "output_type": "stream",
     "text": [
      "Experimental Condition (or Context): s_pos\n"
     ]
    },
    {
     "data": {
      "image/png": "[encoded data removed]",
      "text/plain": [
       "<Figure size 1080x504 with 3 Axes>"
      ]
     },
     "metadata": {
      "needs_background": "light"
     },
     "output_type": "display_data"
    }
   ],
   "source": [
    "plot_all_choices_beliefs(choice_self_hist, belief_self_context_hist, expcondition_hist, outcome_hist)"
   ]
  },
  {
   "cell_type": "code",
   "execution_count": null,
   "metadata": {},
   "outputs": [],
   "source": []
  }
 ],
 "metadata": {
  "kernelspec": {
   "display_name": "Python 3",
   "language": "python",
   "name": "python3"
  },
  "language_info": {
   "codemirror_mode": {
    "name": "ipython",
    "version": 3
   },
   "file_extension": ".py",
   "mimetype": "text/x-python",
   "name": "python",
   "nbconvert_exporter": "python",
   "pygments_lexer": "ipython3",
   "version": "3.8.3"
  }
 },
 "nbformat": 4,
 "nbformat_minor": 4
}
