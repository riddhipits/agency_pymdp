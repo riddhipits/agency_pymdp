{
 "cells": [
  {
   "cell_type": "markdown",
   "metadata": {},
   "source": [
    "# active inference model of agency task\n",
    "## complex version with changed context that's being inferred by agent\n",
    "\n",
    "#### prerequisites"
   ]
  },
  {
   "cell_type": "code",
   "execution_count": 1,
   "metadata": {},
   "outputs": [],
   "source": [
    "# !pip install inferactively-pymdp\n",
    "import os\n",
    "import sys\n",
    "import pathlib\n",
    "import numpy as np \n",
    "import seaborn as sns\n",
    "import copy\n",
    "import matplotlib.pyplot as plt\n",
    "import pymdp\n",
    "\n",
    "from pymdp import utils \n",
    "from pymdp import maths\n",
    "from pymdp.maths import softmax\n",
    "from pymdp.agent import Agent\n",
    "\n",
    "from pymdp.control import (\n",
    "        get_expected_states,\n",
    "        get_expected_obs_factorized,\n",
    "        calc_expected_utility,\n",
    "        calc_states_info_gain_factorized,\n",
    ")\n"
   ]
  },
  {
   "cell_type": "markdown",
   "metadata": {},
   "source": [
    "### THE GENERATIVE MODEL\n",
    "\n",
    "#### specifying the states and observations"
   ]
  },
  {
   "cell_type": "code",
   "execution_count": 2,
   "metadata": {},
   "outputs": [],
   "source": [
    "\"\"\" Defining state factors \"\"\"\n",
    "context_names = ['self_positivecontrol', 'self_negativecontrol', 'self_zerocontrol', \n",
    "                 'other_positivecontrol', 'other_negativecontrol', 'other_zerocontrol']\n",
    "self_action_names = ['self_null', 'self_buttonpress', 'self_buttonnotpress']\n",
    "other_action_names = ['other_null', 'other_buttonpress', 'other_buttonnotpress']\n",
    "\n",
    "\"\"\" Defining number of state factors and states \"\"\"\n",
    "num_states = [len(context_names), len(self_action_names), len(other_action_names)]\n",
    "num_factors = len(num_states)\n",
    "\n",
    "\"\"\" Defining control state factors \"\"\"\n",
    "choice_context_names = ['softmaxed_changes']\n",
    "choice_self_action_names = ['self_null', 'self_pressbutton', 'self_notpressbutton']\n",
    "choice_other_action_names = ['equal_distribution']\n",
    "\n",
    "\"\"\" Defining number of control states \"\"\"\n",
    "num_controls = [len(choice_context_names), len(choice_self_action_names), len(choice_other_action_names)]\n",
    "\n",
    "\"\"\" Defining observational modalities \"\"\"\n",
    "obs_outcome_names = ['outcome_null','outcome_present', 'outcome_absent']\n",
    "obs_choice_self_names = ['self_null', 'self_buttonpress', 'self_buttonnotpress']\n",
    "obs_choice_other_names = ['other_null', 'other_buttonpress', 'other_buttonnotpress']\n",
    "\n",
    "\"\"\" Defining number of observational modalities and observations \"\"\"\n",
    "num_obs = [len(obs_outcome_names), len(obs_choice_self_names), len(obs_choice_other_names)]\n",
    "num_modalities = len(num_obs)\n",
    "\n",
    "def softmax(x):\n",
    "    return(np.exp(x)/np.exp(x).sum())"
   ]
  },
  {
   "cell_type": "markdown",
   "metadata": {},
   "source": [
    "#### likelihood (A) tensors"
   ]
  },
  {
   "cell_type": "code",
   "execution_count": 3,
   "metadata": {},
   "outputs": [],
   "source": [
    "def create_A(p_outcome):\n",
    "    \n",
    "    A = utils.obj_array(len(num_obs))\n",
    "    \n",
    "    ''' A matrix for outcome '''\n",
    "    A_outcome = np.zeros( (len(obs_outcome_names), len(context_names), len(self_action_names), len(other_action_names)) )\n",
    "    \n",
    "    # p(outcome_null | self_nullaction)\n",
    "    A_outcome[0,:,0,:] = 1.0\n",
    "\n",
    "    # p(outcome_null | other_nullaction)\n",
    "    A_outcome[0,:,:,0] = 1.0\n",
    "    \n",
    "    # p(outcome | context, self_press, other_press)\n",
    "                      #    s.p  s.n  s.z  o.p  o.n  o.z\n",
    "    A_outcome[:,:,1,1] = [[0.0, 0.0, 0.0, 0.0, 0.0, 0.0], # outcome_null\n",
    "                          [1.0, 0.0, 0.5, 1.0, 0.0, 0.5], # outcome_present\n",
    "                          [0.0, 1.0, 0.5, 0.0, 1.0, 0.5]] # outcome_absent    \n",
    "\n",
    "    # p(outcome | context, self_notpress, other_press)\n",
    "                      #    s.p  s.n  s.z  o.p  o.n  o.z\n",
    "    A_outcome[:,:,2,1] = [[0.0, 0.0, 0.0, 0.0, 0.0, 0.0], # outcome_null\n",
    "                          [0.0, 1.0, 0.5, 1.0, 0.0, 0.5], # outcome_present\n",
    "                          [1.0, 0.0, 0.5, 0.0, 1.0, 0.5]] # outcome_absent    \n",
    "    \n",
    "    # p(outcome | context, self_press, other_notpress)\n",
    "                      #    s.p  s.n  s.z  o.p  o.n  o.z\n",
    "    A_outcome[:,:,1,2] = [[0.0, 0.0, 0.0, 0.0, 0.0, 0.0], # outcome_null\n",
    "                          [1.0, 0.0, 0.5, 0.0, 1.0, 0.5], # outcome_present\n",
    "                          [0.0, 1.0, 0.5, 1.0, 0.0, 0.5]] # outcome_absent  \n",
    "    \n",
    "    # p(outcome | context, self_notpress, other_notpress)\n",
    "                      #    s.p  s.n  s.z  o.p  o.n  o.z\n",
    "    A_outcome[:,:,2,2] = [[0.0, 0.0, 0.0, 0.0, 0.0, 0.0], # outcome_null\n",
    "                          [0.0, 1.0, 0.5, 0.0, 1.0, 0.5], # outcome_present\n",
    "                          [1.0, 0.0, 0.5, 1.0, 0.0, 0.5]] # outcome_absent  \n",
    "    \n",
    "    ''' A matrix for proprioception '''\n",
    "    A_choice_self = np.zeros((len(obs_choice_self_names), len(self_action_names)))\n",
    "    \n",
    "    A_choice_self = np.eye(len(self_action_names))\n",
    "    \n",
    "    ''' A matrix for observing other agent's actions '''\n",
    "    A_choice_other = np.zeros((len(obs_choice_other_names), len(other_action_names)))\n",
    "    \n",
    "    A_choice_other = np.eye(len(other_action_names))\n",
    "    \n",
    "    ''' stacking up the A matrices '''\n",
    "    A[0], A[1], A[2] = A_outcome, A_choice_self, A_choice_other\n",
    "    A_factor_list = [[0,1,2], [1], [2]]\n",
    "    \n",
    "    A = utils.norm_dist_obj_arr(A)\n",
    "    \n",
    "    return A, A_factor_list\n",
    "\n",
    "\n",
    "# A = create_A(p_outcome = 1.0)\n",
    "# utils.plot_likelihood(A[0][:,:,0,0], title = \"P(outcome_start|start_self, start_other)\")"
   ]
  },
  {
   "cell_type": "markdown",
   "metadata": {},
   "source": [
    "#### state transition (B) tensors"
   ]
  },
  {
   "cell_type": "code",
   "execution_count": 4,
   "metadata": {},
   "outputs": [],
   "source": [
    "def create_B():\n",
    "    \n",
    "    B = utils.initialize_empty_B(num_states, num_states)\n",
    "    \n",
    "    ''' B matrix for context regarding the self '''\n",
    "    B_context = np.zeros( (len(context_names), len(context_names), len(choice_context_names)) )\n",
    "\n",
    "#     B_self_context[:,:,0] = np.array(1.0/float(num_states[0]))\n",
    "    B_context[:,:,0] = np.eye(len(context_names))\n",
    "    \n",
    "    B_context = softmax(B_context)\n",
    "    \n",
    "    ''' B matrix for actions the self can make '''\n",
    "    B_self_choice = np.zeros( (len(self_action_names), len(self_action_names), len(choice_self_action_names)) )\n",
    "    \n",
    "    for choice_id in range(len(self_action_names)):\n",
    "        B_self_choice[choice_id, :, choice_id] = 1.0\n",
    "    \n",
    "    ''' B matrix for actions the other can make '''\n",
    "    B_other_choice = np.zeros( (len(other_action_names), len(other_action_names), len(choice_other_action_names)) )\n",
    "    \n",
    "    B_other_choice[:,:,0] = np.array(1.0/float(num_states[2]))\n",
    "    \n",
    "    ''' stacking up the B matrices '''\n",
    "    B[0], B[1], B[2] = B_context, B_self_choice, B_other_choice\n",
    "    \n",
    "    B = utils.norm_dist_obj_arr(B)\n",
    "    \n",
    "    return B\n",
    "\n",
    "# B = create_B()\n",
    "# print(B[0][:,:,0])"
   ]
  },
  {
   "cell_type": "markdown",
   "metadata": {},
   "source": [
    "#### preferences (C) vectors"
   ]
  },
  {
   "cell_type": "code",
   "execution_count": 5,
   "metadata": {},
   "outputs": [],
   "source": [
    "def create_C(outcomepref, actionpref, noactionpref):\n",
    "        \n",
    "    C = utils.obj_array_zeros(num_obs)\n",
    "    C[0] = np.array([0.0, outcomepref, 0.0])\n",
    "    C[1] = np.array([0.0, actionpref, noactionpref])\n",
    "    C[2] = np.array([0.0, 0.0, 0.0])\n",
    "    \n",
    "    return C\n",
    "\n",
    "# C = create_C(reward = 1.0, pun = 0.0)\n",
    "# utils.plot_beliefs(softmax(C[0]), title = \"Prior preferences for outcome_present and outcome_absent\")"
   ]
  },
  {
   "cell_type": "markdown",
   "metadata": {},
   "source": [
    "#### priors (D) vectors"
   ]
  },
  {
   "cell_type": "code",
   "execution_count": 6,
   "metadata": {},
   "outputs": [],
   "source": [
    "def create_D():\n",
    "    \n",
    "    D = utils.obj_array(num_factors)\n",
    "    \n",
    "    D_context = np.ones(num_states[0])/float(num_states[0])\n",
    "    \n",
    "    D_self_choice = np.zeros(len(self_action_names)) \n",
    "    D_self_choice[self_action_names.index(\"self_null\")] = 1.0\n",
    "    \n",
    "    D_other_choice = np.zeros(len(other_action_names)) \n",
    "    D_other_choice[other_action_names.index(\"other_null\")] = 1.0\n",
    "\n",
    "    D[0], D[1], D[2] = D_context, D_self_choice, D_other_choice\n",
    "    \n",
    "    return D\n",
    "\n",
    "# D = create_D(p_context=1/float(num_states[0]))\n",
    "# utils.plot_beliefs(softmax(D[1]), title = \"Prior beliefs about probability of the contexts\")"
   ]
  },
  {
   "cell_type": "markdown",
   "metadata": {},
   "source": [
    "### THE GENERATIVE PROCESS"
   ]
  },
  {
   "cell_type": "code",
   "execution_count": 7,
   "metadata": {},
   "outputs": [],
   "source": [
    "class AgencyTask(object):\n",
    "    \n",
    "    def __init__(self, expcondition = None , p_other_action = 0.5, p_outcome = 1.0):\n",
    "        \n",
    "        # defining the experimental conditions for the generative process\n",
    "        self.expcondition_names = ['self_positivecontrol', 'self_negativecontrol', \n",
    "                                   'other_positivecontrol', 'other_negativecontrol', \n",
    "                                   'zerocontrol']\n",
    "        self.num_expcondition = len(self.expcondition_names)\n",
    "        \n",
    "        if expcondition == None:\n",
    "            self.expcondition = self.expcondition_names[utils.sample(np.ones(self.num_expcondition)/self.num_expcondition)] # randomly sample which context is selected\n",
    "        else:\n",
    "            self.expcondition = expcondition\n",
    "            \n",
    "        self.p_outcome = p_outcome\n",
    "        self.p_other_action = p_other_action\n",
    "        \n",
    "        self.action_other_names = ['other_null', 'other_pressbutton', 'other_notpressbutton']\n",
    "        self.obs_outcome_names = ['outcome_null', 'outcome_present', 'outcome_absent']\n",
    "                \n",
    "    def step(self, action):\n",
    "\n",
    "        # sampling the other agent's actions at random (p(other_action) = 0.5)\n",
    "        self.action_other = self.action_other_names[utils.sample(np.array([0.0, self.p_other_action, 1.0-self.p_other_action]))]\n",
    "        \n",
    "        if action == \"self_null\" and self.action_other == \"other_null\":\n",
    "            observed_choice_self = \"self_null\"\n",
    "            observed_choice_other = \"other_null\"\n",
    "            observed_outcome = \"outcome_null\"\n",
    "                \n",
    "        elif action == \"self_pressbutton\" and self.action_other == \"other_pressbutton\":\n",
    "            observed_choice_self = \"self_buttonpress\"\n",
    "            observed_choice_other = \"other_buttonpress\"\n",
    "            \n",
    "            if self.expcondition == \"self_positivecontrol\":\n",
    "                observed_outcome = self.obs_outcome_names[utils.sample(np.array([0.0, self.p_outcome, 1.0-self.p_outcome]))]\n",
    "            elif self.expcondition == \"self_negativecontrol\":\n",
    "                observed_outcome = self.obs_outcome_names[utils.sample(np.array([0.0, 1.0-self.p_outcome, self.p_outcome]))]\n",
    "            elif self.expcondition == \"other_positivecontrol\":\n",
    "                observed_outcome = self.obs_outcome_names[utils.sample(np.array([0.0, self.p_outcome, 1.0-self.p_outcome]))]\n",
    "            elif self.expcondition == \"other_negativecontrol\":\n",
    "                observed_outcome = self.obs_outcome_names[utils.sample(np.array([0.0, 1.0-self.p_outcome, self.p_outcome]))]\n",
    "            elif self.expcondition == \"zerocontrol\":\n",
    "                observed_outcome = self.obs_outcome_names[utils.sample(np.array([0.0, 0.5, 0.5]))]\n",
    "                \n",
    "        elif action == \"self_pressbutton\" and self.action_other == \"other_notpressbutton\":\n",
    "            observed_choice_self = \"self_buttonpress\"\n",
    "            observed_choice_other = \"other_buttonnotpress\"\n",
    "            \n",
    "            if self.expcondition == \"self_positivecontrol\":\n",
    "                observed_outcome = self.obs_outcome_names[utils.sample(np.array([0.0, self.p_outcome, 1.0-self.p_outcome]))]\n",
    "            elif self.expcondition == \"self_negativecontrol\":\n",
    "                observed_outcome = self.obs_outcome_names[utils.sample(np.array([0.0, 1.0-self.p_outcome, self.p_outcome]))]\n",
    "            elif self.expcondition == \"other_positivecontrol\":\n",
    "                observed_outcome = self.obs_outcome_names[utils.sample(np.array([0.0, 1.0-self.p_outcome, self.p_outcome]))]\n",
    "            elif self.expcondition == \"other_negativecontrol\":\n",
    "                observed_outcome = self.obs_outcome_names[utils.sample(np.array([0.0, self.p_outcome, 1.0-self.p_outcome]))]\n",
    "            elif self.expcondition == \"zerocontrol\":\n",
    "                observed_outcome = self.obs_outcome_names[utils.sample(np.array([0.0, 0.5, 0.5]))]\n",
    "                \n",
    "        elif action == \"self_notpressbutton\" and self.action_other == \"other_pressbutton\":\n",
    "            observed_choice_self = \"self_buttonnotpress\"\n",
    "            observed_choice_other = \"other_buttonpress\"\n",
    "            \n",
    "            if self.expcondition == \"self_positivecontrol\":\n",
    "                observed_outcome = self.obs_outcome_names[utils.sample(np.array([0.0, 1.0-self.p_outcome, self.p_outcome]))]\n",
    "            elif self.expcondition == \"self_negativecontrol\":\n",
    "                observed_outcome = self.obs_outcome_names[utils.sample(np.array([0.0, self.p_outcome, 1.0-self.p_outcome]))]\n",
    "            elif self.expcondition == \"other_positivecontrol\":\n",
    "                observed_outcome = self.obs_outcome_names[utils.sample(np.array([0.0, self.p_outcome, 1.0-self.p_outcome]))]\n",
    "            elif self.expcondition == \"other_negativecontrol\":\n",
    "                observed_outcome = self.obs_outcome_names[utils.sample(np.array([0.0, 1.0-self.p_outcome, self.p_outcome]))]\n",
    "            elif self.expcondition == \"zerocontrol\":\n",
    "                observed_outcome = self.obs_outcome_names[utils.sample(np.array([0.0, 0.5, 0.5]))]\n",
    "                \n",
    "        elif action == \"self_notpressbutton\" and self.action_other == \"other_notpressbutton\":\n",
    "            observed_choice_self = \"self_buttonnotpress\"\n",
    "            observed_choice_other = \"other_buttonnotpress\"\n",
    "            \n",
    "            if self.expcondition == \"self_positivecontrol\":\n",
    "                observed_outcome = self.obs_outcome_names[utils.sample(np.array([0.0, 1.0-self.p_outcome, self.p_outcome]))]\n",
    "            elif self.expcondition == \"self_negativecontrol\":\n",
    "                observed_outcome = self.obs_outcome_names[utils.sample(np.array([0.0, self.p_outcome, 1.0-self.p_outcome]))]\n",
    "            elif self.expcondition == \"other_positivecontrol\":\n",
    "                observed_outcome = self.obs_outcome_names[utils.sample(np.array([0.0, 1.0-self.p_outcome, self.p_outcome]))]\n",
    "            elif self.expcondition == \"other_negativecontrol\":\n",
    "                observed_outcome = self.obs_outcome_names[utils.sample(np.array([0.0, self.p_outcome, 1.0-self.p_outcome]))]\n",
    "            elif self.expcondition == \"zerocontrol\":\n",
    "                observed_outcome = self.obs_outcome_names[utils.sample(np.array([0.0, 0.5, 0.5]))]\n",
    "\n",
    "        obs = [observed_outcome, observed_choice_self, observed_choice_other]\n",
    "\n",
    "        return obs"
   ]
  },
  {
   "cell_type": "markdown",
   "metadata": {},
   "source": [
    "### RUNNING ACTIVE INFERENCE "
   ]
  },
  {
   "cell_type": "code",
   "execution_count": 8,
   "metadata": {},
   "outputs": [],
   "source": [
    "def eval_policy(my_agent):\n",
    "    \n",
    "    for idx, policy in enumerate(my_agent.policies):\n",
    "    \n",
    "        qs_pi = get_expected_states(\n",
    "            my_agent.qs, my_agent.B, policy\n",
    "        )\n",
    "\n",
    "        qo_pi = get_expected_obs_factorized(\n",
    "            qs_pi, my_agent.A, my_agent.A_factor_list\n",
    "        )\n",
    "\n",
    "        e_u = calc_expected_utility(qo_pi, my_agent.C)\n",
    "\n",
    "        e_ig = calc_states_info_gain_factorized(\n",
    "            my_agent.A, qs_pi, my_agent.A_factor_list\n",
    "        )\n",
    "\n",
    "        EFE = e_u + e_ig\n",
    "\n",
    "        print(e_ig)\n",
    "\n"
   ]
  },
  {
   "cell_type": "code",
   "execution_count": 9,
   "metadata": {},
   "outputs": [],
   "source": [
    "def run_active_inference_loop(my_agent, my_env, T, verbose):\n",
    "    \n",
    "    \"\"\" Initialize the first observation \"\"\"\n",
    "    obs_label = [\"outcome_null\", \"self_null\", \"other_null\"]  \n",
    "    obs = [obs_outcome_names.index(obs_label[0]), obs_choice_self_names.index(obs_label[1]), obs_choice_other_names.index(obs_label[2])]\n",
    "    \n",
    "    first_choice = obs_choice_self_names.index(obs_label[1])\n",
    "    choice_self_hist = np.zeros((num_controls[1],T+1))\n",
    "    choice_self_hist[first_choice,0] = 1.0\n",
    "    \n",
    "    belief_context_hist = np.zeros((num_states[0], T))\n",
    "    belief_self_action_hist = np.zeros((num_states[1], T))\n",
    "    belief_other_action_hist = np.zeros((num_states[2], T))\n",
    "    \n",
    "    expcondition_hist = np.zeros(T)\n",
    "    outcome_hist = np.zeros((num_obs[0],T))\n",
    "    \n",
    "    for t in range(T):\n",
    "        \n",
    "        expcondition_hist[t] = env.expcondition_names.index(env.expcondition)\n",
    "        \n",
    "        qs = my_agent.infer_states(obs)\n",
    "        belief_context_hist[:,t] = qs[0]\n",
    "        belief_self_action_hist[:,t] = qs[1]\n",
    "        belief_other_action_hist[:,t] = qs[2]\n",
    "        \n",
    "        outcome_hist[obs[0],t] = 1.0\n",
    "            \n",
    "        q_pi, efe = my_agent.infer_policies_factorized()\n",
    "#         print('\\033[1m' + f\"\\ntimestep {t} :\" + '\\033[0m')\n",
    "#         print(q_pi.round(3))\n",
    "#         print(efe.round(3))\n",
    "#         eval_policy(my_agent)\n",
    "#         print(qs[0])\n",
    "\n",
    "        chosen_action_id = my_agent.sample_action()\n",
    "        action_id = int(chosen_action_id[1])\n",
    "        choice_self_hist[action_id,t+1]= 1.0\n",
    "        choice_action = choice_self_action_names[action_id]\n",
    "          \n",
    "        obs_label = my_env.step(choice_action)\n",
    "        obs = [obs_outcome_names.index(obs_label[0]), obs_choice_self_names.index(obs_label[1]), obs_choice_other_names.index(obs_label[2])]\n",
    "        \n",
    "        \n",
    "        \n",
    "    return choice_self_hist, belief_context_hist, expcondition_hist, belief_other_action_hist, outcome_hist"
   ]
  },
  {
   "cell_type": "code",
   "execution_count": 10,
   "metadata": {},
   "outputs": [
    {
     "name": "stdout",
     "output_type": "stream",
     "text": [
      "\u001b[1m\n",
      "timestep 0 :\u001b[0m\n",
      "\u001b[1m\n",
      "timestep 1 :\u001b[0m\n",
      "\u001b[1m\n",
      "timestep 2 :\u001b[0m\n",
      "\u001b[1m\n",
      "timestep 3 :\u001b[0m\n",
      "\u001b[1m\n",
      "timestep 4 :\u001b[0m\n",
      "\u001b[1m\n",
      "timestep 5 :\u001b[0m\n",
      "\u001b[1m\n",
      "timestep 6 :\u001b[0m\n",
      "\u001b[1m\n",
      "timestep 7 :\u001b[0m\n",
      "\u001b[1m\n",
      "timestep 8 :\u001b[0m\n",
      "\u001b[1m\n",
      "timestep 9 :\u001b[0m\n",
      "\u001b[1m\n",
      "timestep 10 :\u001b[0m\n",
      "\u001b[1m\n",
      "timestep 11 :\u001b[0m\n",
      "\u001b[1m\n",
      "timestep 12 :\u001b[0m\n",
      "\u001b[1m\n",
      "timestep 13 :\u001b[0m\n",
      "\u001b[1m\n",
      "timestep 14 :\u001b[0m\n",
      "\u001b[1m\n",
      "timestep 15 :\u001b[0m\n",
      "\u001b[1m\n",
      "timestep 16 :\u001b[0m\n",
      "\u001b[1m\n",
      "timestep 17 :\u001b[0m\n",
      "\u001b[1m\n",
      "timestep 18 :\u001b[0m\n",
      "\u001b[1m\n",
      "timestep 19 :\u001b[0m\n"
     ]
    }
   ],
   "source": [
    "p_outcome_env = 1.0\n",
    "p_other_action_env = 0.5\n",
    "\n",
    "env = AgencyTask(p_other_action = p_other_action_env, p_outcome = p_outcome_env)\n",
    "\n",
    "T = 20\n",
    "\n",
    "A,A_factor_list = create_A(p_outcome = 1.0)\n",
    "B = create_B()\n",
    "C = create_C(outcomepref = 5.0, actionpref = 0.0, noactionpref = 0.05)\n",
    "D = create_D()\n",
    "my_agent = Agent(A=A, B=B, C=C, D=D, A_factor_list=A_factor_list)\n",
    "\n",
    "\n",
    "choice_self_hist, belief_context_hist, expcondition_hist, belief_other_action_hist, outcome_hist = run_active_inference_loop(my_agent, env, T = T, verbose = False)"
   ]
  },
  {
   "cell_type": "markdown",
   "metadata": {},
   "source": [
    "### PLOTTING "
   ]
  },
  {
   "cell_type": "code",
   "execution_count": 11,
   "metadata": {},
   "outputs": [],
   "source": [
    "def plot_some_choices_beliefs(choice_self_hist, belief_context_hist, pad_val=5.0):\n",
    "    print(env.expcondition)\n",
    "    \n",
    "    T = choice_self_hist.shape[1]\n",
    "    fig, axes = plt.subplots(nrows = 2, ncols = 1, figsize = (15,13))\n",
    "    \n",
    "    axes[0].imshow(choice_self_hist[:,:-1], cmap = 'gray') \n",
    "    axes[0].set_xlabel('Timesteps')\n",
    "    axes[0].set_yticks(ticks = range(num_states[2]))\n",
    "    axes[0].set_yticklabels(labels = choice_action_self_names)\n",
    "    axes[0].set_title('Actions produced by the self over time')\n",
    "    \n",
    "    axes[1].imshow(belief_self_context_hist, cmap = 'gray')\n",
    "    axes[1].set_xlabel('Timesteps')\n",
    "    axes[1].set_yticks(ticks = range(num_states[0]))\n",
    "    axes[1].set_yticklabels(labels = context_names)\n",
    "    axes[1].set_title('Beliefs about control the self has over time')\n",
    "    \n",
    "    fig.tight_layout(pad=pad_val)\n",
    "    plt.show()"
   ]
  },
  {
   "cell_type": "code",
   "execution_count": 12,
   "metadata": {},
   "outputs": [],
   "source": [
    "def plot_all_choices_beliefs(choice_self_hist, belief_context_hist, expcondition_hist, belief_other_action_hist, outcome_hist, pad_val=0.5):\n",
    "    \n",
    "    print(f'Experimental Condition (or Context): {env.expcondition}')\n",
    "    \n",
    "    T = choice_self_hist.shape[1]\n",
    "    fig, axes = plt.subplots(nrows = 4, ncols = 1, figsize = (15,20))\n",
    "    \n",
    "    axes[0].imshow(belief_context_hist, cmap = 'gray')\n",
    "    axes[0].set_xlabel('Timesteps')\n",
    "    axes[0].set_yticks(ticks = range(num_states[0]))\n",
    "    axes[0].set_yticklabels(labels = context_names)\n",
    "    axes[0].set_title('Beliefs about control the self has over time')\n",
    "\n",
    "    axes[1].imshow(choice_self_hist[:,:-1], cmap = 'gray') \n",
    "    axes[1].set_xlabel('Timesteps')\n",
    "    axes[1].set_yticks(ticks = range(num_states[1]))\n",
    "    axes[1].set_yticklabels(labels = self_action_names)\n",
    "    axes[1].set_title('Actions produced by the self over time')\n",
    "    \n",
    "    axes[2].imshow(belief_other_action_hist[:,:-1], cmap = 'gray') \n",
    "    axes[2].set_xlabel('Timesteps')\n",
    "    axes[2].set_yticks(ticks = range(num_states[2]))\n",
    "    axes[2].set_yticklabels(labels = other_action_names)\n",
    "    axes[2].set_title('Beliefs about actions produced by the other over time')\n",
    "\n",
    "    axes[3].imshow(outcome_hist[:,:-1], cmap = 'gray') \n",
    "    axes[3].set_xlabel('Timesteps')\n",
    "    axes[3].set_yticks(ticks = range(num_obs[0]))\n",
    "    axes[3].set_yticklabels(labels = obs_outcome_names)\n",
    "    axes[3].set_title('Outcomes observed over time')\n",
    "\n",
    "    fig.tight_layout(pad=pad_val)\n",
    "    plt.show()"
   ]
  },
  {
   "cell_type": "code",
   "execution_count": 13,
   "metadata": {},
   "outputs": [],
   "source": [
    "# plot_some_choices_beliefs(choice_hist, belief_hist, context_hist)"
   ]
  },
  {
   "cell_type": "code",
   "execution_count": 14,
   "metadata": {
    "scrolled": false
   },
   "outputs": [
    {
     "name": "stdout",
     "output_type": "stream",
     "text": [
      "Experimental Condition (or Context): other_negativecontrol\n"
     ]
    },
    {
     "data": {
      "image/png": "[encoded data removed]",
      "text/plain": [
       "<Figure size 1080x1440 with 4 Axes>"
      ]
     },
     "metadata": {
      "needs_background": "light"
     },
     "output_type": "display_data"
    }
   ],
   "source": [
    "plot_all_choices_beliefs(choice_self_hist, belief_context_hist, expcondition_hist, belief_other_action_hist, outcome_hist)"
   ]
  },
  {
   "cell_type": "code",
   "execution_count": 15,
   "metadata": {},
   "outputs": [
    {
     "name": "stdout",
     "output_type": "stream",
     "text": [
      "self_positivecontrol\n",
      "1.8345270960747089\n",
      "\n",
      "self_negativecontrol\n",
      "4.409054443689286\n",
      "\n",
      "self_zerocontrol\n",
      "2.9996169259172465\n",
      "\n",
      "other_positivecontrol\n",
      "0.16666666666666718\n",
      "\n",
      "other_negativecontrol\n",
      "7.590517941734844\n",
      "\n",
      "other_zerocontrol\n",
      "2.9996169259172465\n",
      "\n"
     ]
    }
   ],
   "source": [
    "belief_context_sum = [sum(row) for row in belief_context_hist]\n",
    "\n",
    "\n",
    "for idx in range(len(context_names)):\n",
    "    print(context_names[idx])\n",
    "    print(belief_context_sum[idx])\n",
    "    print()"
   ]
  },
  {
   "cell_type": "code",
   "execution_count": 16,
   "metadata": {},
   "outputs": [],
   "source": [
    "# ''' TO PRINT INFO GAIN BASED ON POSTERIOR OF STATES IN A POLICY '''\n",
    "# from pymdp.control import (\n",
    "#         get_expected_states,\n",
    "#         get_expected_obs_factorized,\n",
    "#         calc_expected_utility,\n",
    "#         calc_states_info_gain_factorized,\n",
    "# )\n",
    "\n",
    "# ''' in the run_ai_loop: '''      \n",
    "#         eval_policy(my_agent)\n",
    "##         infogain = my_agent.calc_states_info_gain_factorized()\n",
    "#         print(t)\n",
    "#         print(q_pi.round(3))\n",
    "#         print(efe.round(3))\n",
    "#         print(infogain.round(3))"
   ]
  },
  {
   "cell_type": "code",
   "execution_count": 19,
   "metadata": {},
   "outputs": [
    {
     "name": "stdout",
     "output_type": "stream",
     "text": [
      "[[0.35218743 0.12956251 0.12956251 0.12956251 0.12956251 0.12956251]\n",
      " [0.12956251 0.35218743 0.12956251 0.12956251 0.12956251 0.12956251]\n",
      " [0.12956251 0.12956251 0.35218743 0.12956251 0.12956251 0.12956251]\n",
      " [0.12956251 0.12956251 0.12956251 0.35218743 0.12956251 0.12956251]\n",
      " [0.12956251 0.12956251 0.12956251 0.12956251 0.35218743 0.12956251]\n",
      " [0.12956251 0.12956251 0.12956251 0.12956251 0.12956251 0.35218743]]\n"
     ]
    }
   ],
   "source": [
    "print(B[0][:,:,0])"
   ]
  },
  {
   "cell_type": "code",
   "execution_count": null,
   "metadata": {},
   "outputs": [],
   "source": []
  }
 ],
 "metadata": {
  "kernelspec": {
   "display_name": "Python 3",
   "language": "python",
   "name": "python3"
  },
  "language_info": {
   "codemirror_mode": {
    "name": "ipython",
    "version": 3
   },
   "file_extension": ".py",
   "mimetype": "text/x-python",
   "name": "python",
   "nbconvert_exporter": "python",
   "pygments_lexer": "ipython3",
   "version": "3.8.3"
  }
 },
 "nbformat": 4,
 "nbformat_minor": 4
}
